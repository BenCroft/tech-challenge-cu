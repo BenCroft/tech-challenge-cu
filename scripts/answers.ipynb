{
 "cells": [
  {
   "cell_type": "markdown",
   "metadata": {
    "toc": true
   },
   "source": [
    "<h1>Table of Contents<span class=\"tocSkip\"></span></h1>\n",
    "<div class=\"toc\"><ul class=\"toc-item\"><li><span><a href=\"#Set-up-environment\" data-toc-modified-id=\"Set-up-environment-1\"><span class=\"toc-item-num\">1&nbsp;&nbsp;</span>Set up environment</a></span><ul class=\"toc-item\"><li><span><a href=\"#Load-libraries\" data-toc-modified-id=\"Load-libraries-1.1\"><span class=\"toc-item-num\">1.1&nbsp;&nbsp;</span>Load libraries</a></span></li><li><span><a href=\"#Functions\" data-toc-modified-id=\"Functions-1.2\"><span class=\"toc-item-num\">1.2&nbsp;&nbsp;</span>Functions</a></span></li></ul></li><li><span><a href=\"#Question-1\" data-toc-modified-id=\"Question-1-2\"><span class=\"toc-item-num\">2&nbsp;&nbsp;</span>Question 1</a></span></li><li><span><a href=\"#Main\" data-toc-modified-id=\"Main-3\"><span class=\"toc-item-num\">3&nbsp;&nbsp;</span>Main</a></span></li></ul></div>"
   ]
  },
  {
   "cell_type": "markdown",
   "metadata": {},
   "source": [
    "**Author:** Ben Croft\n",
    "\n",
    "**Date:** 7/27/2021\n",
    "\n",
    "**Description** This Jupyter notebook demonstrates a step-by-step solution to the questions posed in the technical challenge for the Data Engineer/Analyst position at CU Boulder. "
   ]
  },
  {
   "cell_type": "markdown",
   "metadata": {},
   "source": [
    "## Set up environment"
   ]
  },
  {
   "cell_type": "markdown",
   "metadata": {},
   "source": [
    "### Load libraries"
   ]
  },
  {
   "cell_type": "code",
   "execution_count": 1,
   "metadata": {},
   "outputs": [],
   "source": [
    "import pandas as pd\n",
    "import time\n",
    "import sqlite3\n",
    "from sqlite3 import Error"
   ]
  },
  {
   "cell_type": "markdown",
   "metadata": {},
   "source": [
    "### Functions"
   ]
  },
  {
   "cell_type": "code",
   "execution_count": 9,
   "metadata": {},
   "outputs": [],
   "source": [
    "# Create the database as given in the provided script\n",
    "def create_db(create_db_script):\n",
    "    exec(open(create_db_script).read())"
   ]
  },
  {
   "cell_type": "code",
   "execution_count": 7,
   "metadata": {},
   "outputs": [],
   "source": [
    "# Create a database connection (sqlite3)\n",
    "def create_db_connection(db_name):\n",
    "    \n",
    "    conn = None\n",
    "    \n",
    "    try:\n",
    "        conn = sqlite3.connect(db_name)\n",
    "    except Error as e:\n",
    "        print(e)\n",
    "    \n",
    "    return conn"
   ]
  },
  {
   "cell_type": "markdown",
   "metadata": {},
   "source": [
    "## Question 1"
   ]
  },
  {
   "cell_type": "markdown",
   "metadata": {},
   "source": [
    "**Instructions:** What students by first name, last name, and major name sorted alphabetically by last name have majors from the Engineering or Language Arts departments?"
   ]
  },
  {
   "cell_type": "code",
   "execution_count": null,
   "metadata": {},
   "outputs": [],
   "source": []
  },
  {
   "cell_type": "code",
   "execution_count": null,
   "metadata": {},
   "outputs": [],
   "source": []
  },
  {
   "cell_type": "markdown",
   "metadata": {},
   "source": [
    "## Main"
   ]
  },
  {
   "cell_type": "code",
   "execution_count": 5,
   "metadata": {},
   "outputs": [],
   "source": [
    "def main():\n",
    "    # Create the database provided by the given script\n",
    "    db_name = \"student_major.db\" \n",
    "    create_db_script = 'create_db.py'\n",
    "    create_db(create_db_script)\n",
    "    \n",
    "    # Create a database connection and a cursor to parse data\n",
    "    conn = create_db_connection(db_name)\n",
    "    cursor = conn.cursor()\n",
    "    \n",
    "    "
   ]
  },
  {
   "cell_type": "code",
   "execution_count": 10,
   "metadata": {},
   "outputs": [],
   "source": [
    "# Run script\n",
    "if __name__ == '__main__':\n",
    "    main()"
   ]
  },
  {
   "cell_type": "code",
   "execution_count": 13,
   "metadata": {},
   "outputs": [
    {
     "data": {
      "text/plain": [
       "[(1, 'Geetha', 'Manjunath', '1998-05-08'),\n",
       " (2, 'Kelsey', 'Hightower', '2001-11-20'),\n",
       " (3, 'Grace', 'Hopper', '2002-03-04'),\n",
       " (4, 'Alan', 'Turing', '1999-01-22'),\n",
       " (5, 'Andrew', 'Ng', '2000-07-19'),\n",
       " (6, 'Corinna', 'Cortes', '1999-06-30')]"
      ]
     },
     "execution_count": 13,
     "metadata": {},
     "output_type": "execute_result"
    }
   ],
   "source": [
    "# Check script so far:\n",
    "db_name = \"student_major.db\" \n",
    "conn = create_db_connection(db_name)\n",
    "cursor = conn.cursor()\n",
    "\n",
    "cursor.execute(\"SELECT * FROM student\").fetchall()"
   ]
  },
  {
   "cell_type": "code",
   "execution_count": null,
   "metadata": {},
   "outputs": [],
   "source": []
  }
 ],
 "metadata": {
  "hide_input": false,
  "kernelspec": {
   "display_name": "Python 3",
   "language": "python",
   "name": "python3"
  },
  "language_info": {
   "codemirror_mode": {
    "name": "ipython",
    "version": 3
   },
   "file_extension": ".py",
   "mimetype": "text/x-python",
   "name": "python",
   "nbconvert_exporter": "python",
   "pygments_lexer": "ipython3",
   "version": "3.7.3"
  },
  "toc": {
   "base_numbering": 1,
   "nav_menu": {},
   "number_sections": true,
   "sideBar": true,
   "skip_h1_title": true,
   "title_cell": "Table of Contents",
   "title_sidebar": "Contents",
   "toc_cell": true,
   "toc_position": {},
   "toc_section_display": true,
   "toc_window_display": true
  }
 },
 "nbformat": 4,
 "nbformat_minor": 2
}
